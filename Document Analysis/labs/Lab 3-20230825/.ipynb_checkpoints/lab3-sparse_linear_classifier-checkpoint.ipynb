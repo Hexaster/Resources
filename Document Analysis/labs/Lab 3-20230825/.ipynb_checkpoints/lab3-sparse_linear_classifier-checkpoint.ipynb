{
 "cells": [
  {
   "cell_type": "markdown",
   "metadata": {},
   "source": [
    "# Movie Review Sentiment Classifier"
   ]
  },
  {
   "cell_type": "markdown",
   "metadata": {},
   "source": [
    "In this notebook, you will implement a simple linear classifier to infer the sentiment of a movie review from its text. \n",
    "\n",
    "You will also implement a hyper-parameter tuning method presented in the lectures to find a good value for the regularisation parameter of your logistic regression classifier. \n",
    "\n",
    "The [scikit-learn](https://scikit-learn.org/stable/index.html) machine learning package will be used throughout this notebook."
   ]
  },
  {
   "cell_type": "code",
   "execution_count": 1,
   "metadata": {
    "tags": []
   },
   "outputs": [],
   "source": [
    "import os\n",
    "import numpy as np\n",
    "import pandas as pd\n",
    "from sklearn.feature_extraction.text import CountVectorizer\n",
    "from sklearn.linear_model import LogisticRegression\n",
    "from sklearn.metrics import accuracy_score"
   ]
  },
  {
   "cell_type": "markdown",
   "metadata": {},
   "source": [
    "Load the movie review data"
   ]
  },
  {
   "cell_type": "code",
   "execution_count": 2,
   "metadata": {
    "tags": []
   },
   "outputs": [],
   "source": [
    "df = pd.read_csv(os.path.join(\"data\", \"movie_reviews_labelled.csv\"))"
   ]
  },
  {
   "cell_type": "markdown",
   "metadata": {},
   "source": [
    "Shuffle the rows and sample a fraction of the dataset for this lab so that you don't have to wait so long for the model to train"
   ]
  },
  {
   "cell_type": "code",
   "execution_count": 3,
   "metadata": {
    "tags": []
   },
   "outputs": [],
   "source": [
    "df = df.sample(frac=0.3, random_state=1).reset_index(drop=True)"
   ]
  },
  {
   "cell_type": "markdown",
   "metadata": {},
   "source": [
    "Split the data into training, validation and test sets."
   ]
  },
  {
   "cell_type": "code",
   "execution_count": 4,
   "metadata": {
    "tags": []
   },
   "outputs": [],
   "source": [
    "# convert pandas series to lists\n",
    "Xr = df[\"text\"].tolist()\n",
    "Yr = df[\"label\"].tolist()\n",
    "\n",
    "# compute the train, val, test splits\n",
    "train_frac, val_frac, test_frac = 0.7, 0.1, 0.2\n",
    "train_end = int(train_frac*len(Xr))\n",
    "val_end = int((train_frac + val_frac)*len(Xr))\n",
    "\n",
    "# store the train val test splits\n",
    "X_train = Xr[0:train_end]\n",
    "Y_train = Yr[0:train_end]\n",
    "X_val = Xr[train_end:val_end]\n",
    "Y_val = Yr[train_end:val_end]\n",
    "X_test = Xr[val_end:]\n",
    "Y_test = Yr[val_end:]"
   ]
  },
  {
   "cell_type": "markdown",
   "metadata": {},
   "source": [
    "Fit a linear classification model"
   ]
  },
  {
   "cell_type": "code",
   "execution_count": 12,
   "metadata": {
    "tags": []
   },
   "outputs": [],
   "source": [
    "def fit_model(Xtr, Ytr, C):\n",
    "    \"\"\"Tokenizes the sentences, calculates TF vectors, and trains a logistic regression model.\n",
    "    \n",
    "    Args:\n",
    "    - Xtr: A list of training documents provided as text\n",
    "    - Ytr: A list of training class labels\n",
    "    - C: The regularization parameter\n",
    "    \"\"\"\n",
    "\n",
    "    # TODO: write model fitting code using CountVectorizer and LogisticRegression\n",
    "    #       CountVectorizer is used to convert the text into sparse TF vectors\n",
    "    #       See https://scikit-learn.org/stable/modules/generated/sklearn.feature_extraction.text.CountVectorizer.html\n",
    "    #       LogisticRegression will train the classifier using these vectors\n",
    "    #       See https://scikit-learn.org/stable/modules/generated/sklearn.linear_model.LogisticRegression.html\n",
    "    count_vectoriser = CountVectorizer()\n",
    "    X = count_vectoriser.fit_transform(Xtr)\n",
    "    model = LogisticRegression(C=C, max_iter=10000).fit(X, Ytr)\n",
    "    \n",
    "    # return the model and CountVectorizer\n",
    "    # Note: we need to return the CountVectorizer because \n",
    "    # it stores a mapping from words -> ids which we need for testing\n",
    "    return model, count_vectoriser"
   ]
  },
  {
   "cell_type": "markdown",
   "metadata": {},
   "source": [
    "Test a fitted linear classifier"
   ]
  },
  {
   "cell_type": "code",
   "execution_count": 16,
   "metadata": {
    "tags": []
   },
   "outputs": [],
   "source": [
    "def test_model(Xtst, Ytst, model, count_vectoriser):\n",
    "    \"\"\"Evaluate a trained classifier on the test set.\n",
    "    \n",
    "    Args:\n",
    "    - Xtst: A list of test or validation documents\n",
    "    - Ytst: A list of test or validation class labels\n",
    "    - count_vectoriser: A fitted CountVectorizer\n",
    "    \"\"\"\n",
    "    \n",
    "    # TODO: write code to test a fitted linear model and return accuracy\n",
    "    #       you will need to use count_vec to convert the text into TF vectors\n",
    "    # Hint: the function accuracy_score from sklearn may be helpful\n",
    "    #       See https://scikit-learn.org/stable/modules/generated/sklearn.metrics.accuracy_score.html \n",
    "    X = count_vectoriser.transform(Xtst)\n",
    "    Y = model.predict(X)\n",
    "    score = accuracy_score(Ytst, Y)\n",
    "    return score"
   ]
  },
  {
   "cell_type": "markdown",
   "metadata": {},
   "source": [
    "Hyper-parameter tuning: search a good value for the hyper-parameter `C`"
   ]
  },
  {
   "cell_type": "code",
   "execution_count": 23,
   "metadata": {
    "tags": []
   },
   "outputs": [],
   "source": [
    "# TODO: search for the best C parameter by \n",
    "#       training on the training set and testing on the validation set\n",
    "#       you should use fit_model and test_model\n",
    "C = 0.001\n",
    "score_opt = float('-inf')\n",
    "while C < 100:\n",
    "    model, count_vectoriser = fit_model(X_train, Y_train, C)\n",
    "    score = test_model(X_val, Y_val, model, count_vectoriser)\n",
    "    if score > score_opt:\n",
    "        C_opt = C\n",
    "    C *= 10"
   ]
  },
  {
   "cell_type": "markdown",
   "metadata": {},
   "source": [
    "Train your classifier using both the training and validation data, and the best value of `C`"
   ]
  },
  {
   "cell_type": "code",
   "execution_count": 29,
   "metadata": {
    "tags": []
   },
   "outputs": [
    {
     "data": {
      "text/plain": [
       "0.8640453182272576"
      ]
     },
     "execution_count": 29,
     "metadata": {},
     "output_type": "execute_result"
    }
   ],
   "source": [
    "# TODO: fit the model to the concatenated training and validation set\n",
    "#       test on the test set and print the result\n",
    "model, count_vectoriser = fit_model((X_train + X_val), (Y_train + Y_val), C_opt)\n",
    "score = test_model(X_test, Y_test, model, count_vectoriser)\n",
    "score"
   ]
  },
  {
   "cell_type": "markdown",
   "metadata": {},
   "source": [
    "Inspect the co-efficients of your logistic regression classifier"
   ]
  },
  {
   "cell_type": "code",
   "execution_count": null,
   "metadata": {},
   "outputs": [],
   "source": [
    "# TODO: find the words corresponding to the 5 largest (most positive) and \n",
    "#       5 smallest (most negative) co-efficients of the linear model\n",
    "# Hint: a fitted LogisticRegression model in sklearn has a coef_ attribute which stores the co-efficients\n",
    "#       CountVectorizer has a vocabulary_ attribute that stores a mapping of terms to feature indices"
   ]
  }
 ],
 "metadata": {
  "interpreter": {
   "hash": "05d9def070595ed3a5d2f360e17188870ccd24783bede71180e4b1c4ac6237f4"
  },
  "kernelspec": {
   "display_name": "Python 3 (ipykernel)",
   "language": "python",
   "name": "python3"
  },
  "language_info": {
   "codemirror_mode": {
    "name": "ipython",
    "version": 3
   },
   "file_extension": ".py",
   "mimetype": "text/x-python",
   "name": "python",
   "nbconvert_exporter": "python",
   "pygments_lexer": "ipython3",
   "version": "3.11.4"
  }
 },
 "nbformat": 4,
 "nbformat_minor": 4
}
