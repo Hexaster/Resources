{
 "cells": [
  {
   "cell_type": "markdown",
   "id": "f894a4c1-9f5b-4011-a03d-ea963322766d",
   "metadata": {},
   "source": [
    "# Text Preprocessing"
   ]
  },
  {
   "cell_type": "markdown",
   "id": "a5b91fcf-e4a9-4f5d-9f4d-95ec31e00ebc",
   "metadata": {},
   "source": [
    "This notebook demonstrates a simple text preprocessing pipeline using the [Natural Language Toolkit (NLTK)](https://www.nltk.org/index.html). \n",
    "\n",
    "Make sure you first follow the [instructions on Wattle](https://wattlecourses.anu.edu.au/mod/page/view.php?id=2943340) to set up your environment for this lab."
   ]
  },
  {
   "cell_type": "code",
   "execution_count": 1,
   "id": "04cae73d-a4a7-48b2-af42-f39310bb9f8c",
   "metadata": {
    "tags": []
   },
   "outputs": [],
   "source": [
    "import nltk\n",
    "import string\n",
    "from collections import Counter"
   ]
  },
  {
   "cell_type": "markdown",
   "id": "a7f1a746-d6a2-4fdd-be1e-969fd31a0353",
   "metadata": {},
   "source": [
    "Raw text from [this Wikipedia page](https://en.wikipedia.org/wiki/Australia)."
   ]
  },
  {
   "cell_type": "code",
   "execution_count": 2,
   "id": "33d5bd45-0578-450a-bfab-3397b710cd8e",
   "metadata": {
    "tags": []
   },
   "outputs": [],
   "source": [
    "raw_text = \"Australia, officially the Commonwealth of Australia, is a sovereign country comprising the mainland of the Australian continent, the island of Tasmania, and numerous smaller islands. With an area of 7,617,930 square kilometres (2,941,300 sq mi), Australia is the largest country by area in Oceania and the world's sixth-largest country. Australia is the oldest, flattest, and driest inhabited continent, with the least fertile soils. It is a megadiverse country, and its size gives it a wide variety of landscapes and climates, with deserts in the centre, tropical rainforests in the north-east, and mountain ranges in the south-east.\\nIndigenous Australians have inhabited the continent for approximately 65,000 years. The European maritime exploration of Australia commenced in the early 17th century with the arrival of Dutch explorers. In 1770, Australia's eastern half was claimed by Great Britain and initially settled through penal transportation to the colony of New South Wales from 26 January 1788, a date which became Australia's national day.\""
   ]
  },
  {
   "cell_type": "code",
   "execution_count": 3,
   "id": "be08b4e1-d68b-4665-bf38-5f3930242c6c",
   "metadata": {
    "tags": []
   },
   "outputs": [
    {
     "name": "stdout",
     "output_type": "stream",
     "text": [
      "Australia, officially the Commonwealth of Australia, is a sovereign country comprising the mainland of the Australian continent, the island of Tasmania, and numerous smaller islands. With an area of 7,617,930 square kilometres (2,941,300 sq mi), Australia is the largest country by area in Oceania and the world's sixth-largest country. Australia is the oldest, flattest, and driest inhabited continent, with the least fertile soils. It is a megadiverse country, and its size gives it a wide variety of landscapes and climates, with deserts in the centre, tropical rainforests in the north-east, and mountain ranges in the south-east.\n",
      "Indigenous Australians have inhabited the continent for approximately 65,000 years. The European maritime exploration of Australia commenced in the early 17th century with the arrival of Dutch explorers. In 1770, Australia's eastern half was claimed by Great Britain and initially settled through penal transportation to the colony of New South Wales from 26 January 1788, a date which became Australia's national day.\n"
     ]
    }
   ],
   "source": [
    "print(raw_text)"
   ]
  },
  {
   "cell_type": "markdown",
   "id": "8a0f2b2a-bf96-4ac3-86fb-b976aa706a62",
   "metadata": {},
   "source": [
    "## Sentence splitting"
   ]
  },
  {
   "cell_type": "markdown",
   "id": "c171d2d2-35fc-4061-8c61-d894c73aae9a",
   "metadata": {},
   "source": [
    "Splitting text into sentences."
   ]
  },
  {
   "cell_type": "code",
   "execution_count": 4,
   "id": "2f4e6f49-4d2d-4a64-85f3-99c6a4d5e34a",
   "metadata": {
    "tags": []
   },
   "outputs": [],
   "source": [
    "from nltk.tokenize import sent_tokenize"
   ]
  },
  {
   "cell_type": "code",
   "execution_count": 5,
   "id": "78956490-64c6-42dc-8de3-21b050e3da81",
   "metadata": {
    "tags": []
   },
   "outputs": [
    {
     "ename": "SyntaxError",
     "evalue": "invalid syntax (3952749885.py, line 1)",
     "output_type": "error",
     "traceback": [
      "\u001b[0;36m  Cell \u001b[0;32mIn[5], line 1\u001b[0;36m\u001b[0m\n\u001b[0;31m    sent_tokenize?  # uncomment this line to see the documentation of `sent_tokenize'\u001b[0m\n\u001b[0m                 ^\u001b[0m\n\u001b[0;31mSyntaxError\u001b[0m\u001b[0;31m:\u001b[0m invalid syntax\n"
     ]
    }
   ],
   "source": [
    "# sent_tokenize?  # uncomment this line to see the documentation of `sent_tokenize'"
   ]
  },
  {
   "cell_type": "code",
   "execution_count": 5,
   "id": "0414b145-56b2-437d-aa71-ce41432391ac",
   "metadata": {},
   "outputs": [
    {
     "name": "stderr",
     "output_type": "stream",
     "text": [
      "[nltk_data] Downloading package punkt to /Users/juneehome/nltk_data...\n",
      "[nltk_data]   Unzipping tokenizers/punkt.zip.\n"
     ]
    },
    {
     "data": {
      "text/plain": [
       "True"
      ]
     },
     "execution_count": 5,
     "metadata": {},
     "output_type": "execute_result"
    }
   ],
   "source": [
    "nltk.download('punkt')"
   ]
  },
  {
   "cell_type": "code",
   "execution_count": 6,
   "id": "08169b36-63ac-49b2-a196-8cfb2137e943",
   "metadata": {},
   "outputs": [],
   "source": [
    "sentences = sent_tokenize(raw_text)"
   ]
  },
  {
   "cell_type": "code",
   "execution_count": 7,
   "id": "a3602844-7644-4f34-b963-307ca9536a11",
   "metadata": {},
   "outputs": [
    {
     "name": "stdout",
     "output_type": "stream",
     "text": [
      "There are 7 sentences\n"
     ]
    }
   ],
   "source": [
    "print(f'There are {len(sentences)} sentences')"
   ]
  },
  {
   "cell_type": "markdown",
   "id": "cd66bc6a-cd25-4550-a61e-35a6a1dd5342",
   "metadata": {},
   "source": [
    "## Tokenisation"
   ]
  },
  {
   "cell_type": "markdown",
   "id": "8ede3f5c-3d38-43ee-b0bc-2180b39dadd4",
   "metadata": {},
   "source": [
    "Dividing a string into a list of tokens."
   ]
  },
  {
   "cell_type": "code",
   "execution_count": 8,
   "id": "9598eb45-0690-4da1-acdc-06c0153e5747",
   "metadata": {},
   "outputs": [],
   "source": [
    "from nltk.tokenize import word_tokenize"
   ]
  },
  {
   "cell_type": "code",
   "execution_count": null,
   "id": "f0ae93eb-ab29-49c1-9df6-25f1c433bafe",
   "metadata": {},
   "outputs": [],
   "source": [
    "# word_tokenize?"
   ]
  },
  {
   "cell_type": "code",
   "execution_count": 9,
   "id": "285bd16b-636e-41a7-b510-374d041c7333",
   "metadata": {},
   "outputs": [],
   "source": [
    "tokens_list = [word_tokenize(s) for s in sentences]"
   ]
  },
  {
   "cell_type": "code",
   "execution_count": 10,
   "id": "7c636272-04f5-4d05-9dd9-4915570f1671",
   "metadata": {
    "collapsed": true,
    "jupyter": {
     "outputs_hidden": true
    },
    "tags": []
   },
   "outputs": [
    {
     "data": {
      "text/plain": [
       "[['Australia',\n",
       "  ',',\n",
       "  'officially',\n",
       "  'the',\n",
       "  'Commonwealth',\n",
       "  'of',\n",
       "  'Australia',\n",
       "  ',',\n",
       "  'is',\n",
       "  'a',\n",
       "  'sovereign',\n",
       "  'country',\n",
       "  'comprising',\n",
       "  'the',\n",
       "  'mainland',\n",
       "  'of',\n",
       "  'the',\n",
       "  'Australian',\n",
       "  'continent',\n",
       "  ',',\n",
       "  'the',\n",
       "  'island',\n",
       "  'of',\n",
       "  'Tasmania',\n",
       "  ',',\n",
       "  'and',\n",
       "  'numerous',\n",
       "  'smaller',\n",
       "  'islands',\n",
       "  '.'],\n",
       " ['With',\n",
       "  'an',\n",
       "  'area',\n",
       "  'of',\n",
       "  '7,617,930',\n",
       "  'square',\n",
       "  'kilometres',\n",
       "  '(',\n",
       "  '2,941,300',\n",
       "  'sq',\n",
       "  'mi',\n",
       "  ')',\n",
       "  ',',\n",
       "  'Australia',\n",
       "  'is',\n",
       "  'the',\n",
       "  'largest',\n",
       "  'country',\n",
       "  'by',\n",
       "  'area',\n",
       "  'in',\n",
       "  'Oceania',\n",
       "  'and',\n",
       "  'the',\n",
       "  'world',\n",
       "  \"'s\",\n",
       "  'sixth-largest',\n",
       "  'country',\n",
       "  '.'],\n",
       " ['Australia',\n",
       "  'is',\n",
       "  'the',\n",
       "  'oldest',\n",
       "  ',',\n",
       "  'flattest',\n",
       "  ',',\n",
       "  'and',\n",
       "  'driest',\n",
       "  'inhabited',\n",
       "  'continent',\n",
       "  ',',\n",
       "  'with',\n",
       "  'the',\n",
       "  'least',\n",
       "  'fertile',\n",
       "  'soils',\n",
       "  '.'],\n",
       " ['It',\n",
       "  'is',\n",
       "  'a',\n",
       "  'megadiverse',\n",
       "  'country',\n",
       "  ',',\n",
       "  'and',\n",
       "  'its',\n",
       "  'size',\n",
       "  'gives',\n",
       "  'it',\n",
       "  'a',\n",
       "  'wide',\n",
       "  'variety',\n",
       "  'of',\n",
       "  'landscapes',\n",
       "  'and',\n",
       "  'climates',\n",
       "  ',',\n",
       "  'with',\n",
       "  'deserts',\n",
       "  'in',\n",
       "  'the',\n",
       "  'centre',\n",
       "  ',',\n",
       "  'tropical',\n",
       "  'rainforests',\n",
       "  'in',\n",
       "  'the',\n",
       "  'north-east',\n",
       "  ',',\n",
       "  'and',\n",
       "  'mountain',\n",
       "  'ranges',\n",
       "  'in',\n",
       "  'the',\n",
       "  'south-east',\n",
       "  '.'],\n",
       " ['Indigenous',\n",
       "  'Australians',\n",
       "  'have',\n",
       "  'inhabited',\n",
       "  'the',\n",
       "  'continent',\n",
       "  'for',\n",
       "  'approximately',\n",
       "  '65,000',\n",
       "  'years',\n",
       "  '.'],\n",
       " ['The',\n",
       "  'European',\n",
       "  'maritime',\n",
       "  'exploration',\n",
       "  'of',\n",
       "  'Australia',\n",
       "  'commenced',\n",
       "  'in',\n",
       "  'the',\n",
       "  'early',\n",
       "  '17th',\n",
       "  'century',\n",
       "  'with',\n",
       "  'the',\n",
       "  'arrival',\n",
       "  'of',\n",
       "  'Dutch',\n",
       "  'explorers',\n",
       "  '.'],\n",
       " ['In',\n",
       "  '1770',\n",
       "  ',',\n",
       "  'Australia',\n",
       "  \"'s\",\n",
       "  'eastern',\n",
       "  'half',\n",
       "  'was',\n",
       "  'claimed',\n",
       "  'by',\n",
       "  'Great',\n",
       "  'Britain',\n",
       "  'and',\n",
       "  'initially',\n",
       "  'settled',\n",
       "  'through',\n",
       "  'penal',\n",
       "  'transportation',\n",
       "  'to',\n",
       "  'the',\n",
       "  'colony',\n",
       "  'of',\n",
       "  'New',\n",
       "  'South',\n",
       "  'Wales',\n",
       "  'from',\n",
       "  '26',\n",
       "  'January',\n",
       "  '1788',\n",
       "  ',',\n",
       "  'a',\n",
       "  'date',\n",
       "  'which',\n",
       "  'became',\n",
       "  'Australia',\n",
       "  \"'s\",\n",
       "  'national',\n",
       "  'day',\n",
       "  '.']]"
      ]
     },
     "execution_count": 10,
     "metadata": {},
     "output_type": "execute_result"
    }
   ],
   "source": [
    "tokens_list"
   ]
  },
  {
   "cell_type": "markdown",
   "id": "7b4a093f-f14d-4629-b64c-ed193f2ba349",
   "metadata": {},
   "source": [
    "The top-10 most common tokens."
   ]
  },
  {
   "cell_type": "code",
   "execution_count": 11,
   "id": "4dfc7652-015c-4598-ac19-fc95a5b9b758",
   "metadata": {},
   "outputs": [
    {
     "data": {
      "text/plain": [
       "[('the', 15),\n",
       " (',', 14),\n",
       " ('of', 8),\n",
       " ('Australia', 7),\n",
       " ('and', 7),\n",
       " ('.', 7),\n",
       " ('in', 5),\n",
       " ('is', 4),\n",
       " ('a', 4),\n",
       " ('country', 4)]"
      ]
     },
     "execution_count": 11,
     "metadata": {},
     "output_type": "execute_result"
    }
   ],
   "source": [
    "Counter([w for x in tokens_list for w in x]).most_common(10)"
   ]
  },
  {
   "cell_type": "markdown",
   "id": "f3800eb4-a4ff-4334-b40c-7f710abb5002",
   "metadata": {},
   "source": [
    "### Exercise\n",
    "\n",
    "Try [other tokenisers provided by NLTK](https://www.nltk.org/api/nltk.tokenize.html) (e.g. RegexpTokenizer, WhitespaceTokenizer, WordPunctTokenizer etc.) and compare their outputs."
   ]
  },
  {
   "cell_type": "code",
   "execution_count": null,
   "id": "553a3c1a-31ef-44f6-95ed-b4825f65a4d8",
   "metadata": {},
   "outputs": [],
   "source": [
    "#from nltk.tokenize import WhitespaceTokenizer"
   ]
  },
  {
   "cell_type": "code",
   "execution_count": 15,
   "id": "910ca738-2bc7-49ef-818f-a7e290d5da99",
   "metadata": {
    "tags": []
   },
   "outputs": [],
   "source": [
    "from nltk.tokenize import *"
   ]
  },
  {
   "cell_type": "code",
   "execution_count": 18,
   "id": "fc64a42e-224a-4481-8623-4c492fce9ced",
   "metadata": {
    "collapsed": true,
    "jupyter": {
     "outputs_hidden": true
    },
    "tags": []
   },
   "outputs": [
    {
     "data": {
      "text/plain": [
       "[['Australia',\n",
       "  ',',\n",
       "  'officially',\n",
       "  'the',\n",
       "  'Commonwealth',\n",
       "  'of',\n",
       "  'Australia',\n",
       "  ',',\n",
       "  'is',\n",
       "  'a',\n",
       "  'sovereign',\n",
       "  'country',\n",
       "  'comprising',\n",
       "  'the',\n",
       "  'mainland',\n",
       "  'of',\n",
       "  'the',\n",
       "  'Australian',\n",
       "  'continent',\n",
       "  ',',\n",
       "  'the',\n",
       "  'island',\n",
       "  'of',\n",
       "  'Tasmania',\n",
       "  ',',\n",
       "  'and',\n",
       "  'numerous',\n",
       "  'smaller',\n",
       "  'islands',\n",
       "  '.'],\n",
       " ['With',\n",
       "  'an',\n",
       "  'area',\n",
       "  'of',\n",
       "  '7',\n",
       "  ',',\n",
       "  '617',\n",
       "  ',',\n",
       "  '930',\n",
       "  'square',\n",
       "  'kilometres',\n",
       "  '(',\n",
       "  '2',\n",
       "  ',',\n",
       "  '941',\n",
       "  ',',\n",
       "  '300',\n",
       "  'sq',\n",
       "  'mi',\n",
       "  '),',\n",
       "  'Australia',\n",
       "  'is',\n",
       "  'the',\n",
       "  'largest',\n",
       "  'country',\n",
       "  'by',\n",
       "  'area',\n",
       "  'in',\n",
       "  'Oceania',\n",
       "  'and',\n",
       "  'the',\n",
       "  'world',\n",
       "  \"'\",\n",
       "  's',\n",
       "  'sixth',\n",
       "  '-',\n",
       "  'largest',\n",
       "  'country',\n",
       "  '.'],\n",
       " ['Australia',\n",
       "  'is',\n",
       "  'the',\n",
       "  'oldest',\n",
       "  ',',\n",
       "  'flattest',\n",
       "  ',',\n",
       "  'and',\n",
       "  'driest',\n",
       "  'inhabited',\n",
       "  'continent',\n",
       "  ',',\n",
       "  'with',\n",
       "  'the',\n",
       "  'least',\n",
       "  'fertile',\n",
       "  'soils',\n",
       "  '.'],\n",
       " ['It',\n",
       "  'is',\n",
       "  'a',\n",
       "  'megadiverse',\n",
       "  'country',\n",
       "  ',',\n",
       "  'and',\n",
       "  'its',\n",
       "  'size',\n",
       "  'gives',\n",
       "  'it',\n",
       "  'a',\n",
       "  'wide',\n",
       "  'variety',\n",
       "  'of',\n",
       "  'landscapes',\n",
       "  'and',\n",
       "  'climates',\n",
       "  ',',\n",
       "  'with',\n",
       "  'deserts',\n",
       "  'in',\n",
       "  'the',\n",
       "  'centre',\n",
       "  ',',\n",
       "  'tropical',\n",
       "  'rainforests',\n",
       "  'in',\n",
       "  'the',\n",
       "  'north',\n",
       "  '-',\n",
       "  'east',\n",
       "  ',',\n",
       "  'and',\n",
       "  'mountain',\n",
       "  'ranges',\n",
       "  'in',\n",
       "  'the',\n",
       "  'south',\n",
       "  '-',\n",
       "  'east',\n",
       "  '.'],\n",
       " ['Indigenous',\n",
       "  'Australians',\n",
       "  'have',\n",
       "  'inhabited',\n",
       "  'the',\n",
       "  'continent',\n",
       "  'for',\n",
       "  'approximately',\n",
       "  '65',\n",
       "  ',',\n",
       "  '000',\n",
       "  'years',\n",
       "  '.'],\n",
       " ['The',\n",
       "  'European',\n",
       "  'maritime',\n",
       "  'exploration',\n",
       "  'of',\n",
       "  'Australia',\n",
       "  'commenced',\n",
       "  'in',\n",
       "  'the',\n",
       "  'early',\n",
       "  '17th',\n",
       "  'century',\n",
       "  'with',\n",
       "  'the',\n",
       "  'arrival',\n",
       "  'of',\n",
       "  'Dutch',\n",
       "  'explorers',\n",
       "  '.'],\n",
       " ['In',\n",
       "  '1770',\n",
       "  ',',\n",
       "  'Australia',\n",
       "  \"'\",\n",
       "  's',\n",
       "  'eastern',\n",
       "  'half',\n",
       "  'was',\n",
       "  'claimed',\n",
       "  'by',\n",
       "  'Great',\n",
       "  'Britain',\n",
       "  'and',\n",
       "  'initially',\n",
       "  'settled',\n",
       "  'through',\n",
       "  'penal',\n",
       "  'transportation',\n",
       "  'to',\n",
       "  'the',\n",
       "  'colony',\n",
       "  'of',\n",
       "  'New',\n",
       "  'South',\n",
       "  'Wales',\n",
       "  'from',\n",
       "  '26',\n",
       "  'January',\n",
       "  '1788',\n",
       "  ',',\n",
       "  'a',\n",
       "  'date',\n",
       "  'which',\n",
       "  'became',\n",
       "  'Australia',\n",
       "  \"'\",\n",
       "  's',\n",
       "  'national',\n",
       "  'day',\n",
       "  '.']]"
      ]
     },
     "execution_count": 18,
     "metadata": {},
     "output_type": "execute_result"
    }
   ],
   "source": [
    "wordpunct_tokens_list = [wordpunct_tokenize(s) for s in sentences]\n",
    "wordpunct_tokens_list"
   ]
  },
  {
   "cell_type": "code",
   "execution_count": 17,
   "id": "125532a3-24c1-4543-9293-224a12993532",
   "metadata": {
    "tags": []
   },
   "outputs": [
    {
     "data": {
      "text/plain": [
       "[(',', 18),\n",
       " ('the', 15),\n",
       " ('of', 8),\n",
       " ('Australia', 7),\n",
       " ('and', 7),\n",
       " ('.', 7),\n",
       " ('in', 5),\n",
       " ('is', 4),\n",
       " ('a', 4),\n",
       " ('country', 4)]"
      ]
     },
     "execution_count": 17,
     "metadata": {},
     "output_type": "execute_result"
    }
   ],
   "source": [
    "Counter([w for x in wordpunct_tokens_list for w in x]).most_common(10)"
   ]
  },
  {
   "cell_type": "code",
   "execution_count": 21,
   "id": "63c4f9d2-dffe-4619-8653-d58f49423daf",
   "metadata": {
    "collapsed": true,
    "jupyter": {
     "outputs_hidden": true
    },
    "tags": []
   },
   "outputs": [
    {
     "data": {
      "text/plain": [
       "[RegexpTokenizer(pattern='Australia, officially the Commonwealth of Australia, is a sovereign country comprising the mainland of the Australian continent, the island of Tasmania, and numerous smaller islands.', gaps=False, discard_empty=True, flags=re.UNICODE|re.MULTILINE|re.DOTALL),\n",
       " RegexpTokenizer(pattern=\"With an area of 7,617,930 square kilometres (2,941,300 sq mi), Australia is the largest country by area in Oceania and the world's sixth-largest country.\", gaps=False, discard_empty=True, flags=re.UNICODE|re.MULTILINE|re.DOTALL),\n",
       " RegexpTokenizer(pattern='Australia is the oldest, flattest, and driest inhabited continent, with the least fertile soils.', gaps=False, discard_empty=True, flags=re.UNICODE|re.MULTILINE|re.DOTALL),\n",
       " RegexpTokenizer(pattern='It is a megadiverse country, and its size gives it a wide variety of landscapes and climates, with deserts in the centre, tropical rainforests in the north-east, and mountain ranges in the south-east.', gaps=False, discard_empty=True, flags=re.UNICODE|re.MULTILINE|re.DOTALL),\n",
       " RegexpTokenizer(pattern='Indigenous Australians have inhabited the continent for approximately 65,000 years.', gaps=False, discard_empty=True, flags=re.UNICODE|re.MULTILINE|re.DOTALL),\n",
       " RegexpTokenizer(pattern='The European maritime exploration of Australia commenced in the early 17th century with the arrival of Dutch explorers.', gaps=False, discard_empty=True, flags=re.UNICODE|re.MULTILINE|re.DOTALL),\n",
       " RegexpTokenizer(pattern=\"In 1770, Australia's eastern half was claimed by Great Britain and initially settled through penal transportation to the colony of New South Wales from 26 January 1788, a date which became Australia's national day.\", gaps=False, discard_empty=True, flags=re.UNICODE|re.MULTILINE|re.DOTALL)]"
      ]
     },
     "execution_count": 21,
     "metadata": {},
     "output_type": "execute_result"
    }
   ],
   "source": [
    "Regexp_tokens_list = [RegexpTokenizer(s) for s in sentences]\n",
    "Regexp_tokens_list"
   ]
  },
  {
   "cell_type": "code",
   "execution_count": 22,
   "id": "48b8445c-69aa-49d6-9243-8e2586d1233a",
   "metadata": {
    "tags": []
   },
   "outputs": [
    {
     "data": {
      "text/plain": [
       "[<generator object RegexpTokenizer.span_tokenize at 0x1401f0f40>,\n",
       " <generator object RegexpTokenizer.span_tokenize at 0x1401f24d0>,\n",
       " <generator object RegexpTokenizer.span_tokenize at 0x1401f0220>,\n",
       " <generator object RegexpTokenizer.span_tokenize at 0x1401f2020>,\n",
       " <generator object RegexpTokenizer.span_tokenize at 0x1401f0310>,\n",
       " <generator object RegexpTokenizer.span_tokenize at 0x1401f1300>,\n",
       " <generator object RegexpTokenizer.span_tokenize at 0x1401f13f0>]"
      ]
     },
     "execution_count": 22,
     "metadata": {},
     "output_type": "execute_result"
    }
   ],
   "source": [
    "whitespace_tokens_list = [WhitespaceTokenizer().span_tokenize(s) for s in sentences]\n",
    "whitespace_tokens_list"
   ]
  },
  {
   "cell_type": "markdown",
   "id": "a8392f0a-a6d6-40b3-a216-b2e24e00c4b9",
   "metadata": {
    "tags": []
   },
   "source": [
    "### Question \n",
    "\n",
    "What are the differences and how can we choose the best tokeniser for a task?"
   ]
  },
  {
   "cell_type": "markdown",
   "id": "e448b5ec-4159-4977-9dea-078f39f90482",
   "metadata": {},
   "source": [
    "The best tokeniser depends on tasks and languages. For some languages like Chinese and Japanese, there are no spaces between word, surely we cannot use whitespace tokenizer then. "
   ]
  },
  {
   "cell_type": "markdown",
   "id": "a85c070b-ae72-46aa-a6b5-580aac52ffed",
   "metadata": {},
   "source": [
    "## Removing punctuation and stop words"
   ]
  },
  {
   "cell_type": "markdown",
   "id": "7649191b-f526-4862-9ad9-adc3cf9e0f4e",
   "metadata": {},
   "source": [
    "Stopwords and punctuation are usually not helpful for many IR tasks, and removing them can reduce the number of tokens we need to process. "
   ]
  },
  {
   "cell_type": "code",
   "execution_count": 23,
   "id": "d509dc6f-28f6-4de3-a729-30fb5871741c",
   "metadata": {},
   "outputs": [],
   "source": [
    "from nltk.corpus import stopwords"
   ]
  },
  {
   "cell_type": "code",
   "execution_count": 24,
   "id": "d0bc9103-97b8-430f-864c-9868bcdb0575",
   "metadata": {},
   "outputs": [
    {
     "name": "stderr",
     "output_type": "stream",
     "text": [
      "[nltk_data] Downloading package stopwords to\n",
      "[nltk_data]     /Users/juneehome/nltk_data...\n",
      "[nltk_data]   Package stopwords is already up-to-date!\n"
     ]
    },
    {
     "data": {
      "text/plain": [
       "True"
      ]
     },
     "execution_count": 24,
     "metadata": {},
     "output_type": "execute_result"
    }
   ],
   "source": [
    "nltk.download('stopwords')"
   ]
  },
  {
   "cell_type": "code",
   "execution_count": 25,
   "id": "b4383770-de61-40b7-96f2-c5670a971cb7",
   "metadata": {},
   "outputs": [],
   "source": [
    "stopwords_en = set(stopwords.words('english'))"
   ]
  },
  {
   "cell_type": "code",
   "execution_count": 26,
   "id": "ff13a8a0-6d24-4771-b28f-ef5e7f03e55e",
   "metadata": {
    "collapsed": true,
    "jupyter": {
     "outputs_hidden": true
    },
    "tags": []
   },
   "outputs": [
    {
     "data": {
      "text/plain": [
       "{'a',\n",
       " 'about',\n",
       " 'above',\n",
       " 'after',\n",
       " 'again',\n",
       " 'against',\n",
       " 'ain',\n",
       " 'all',\n",
       " 'am',\n",
       " 'an',\n",
       " 'and',\n",
       " 'any',\n",
       " 'are',\n",
       " 'aren',\n",
       " \"aren't\",\n",
       " 'as',\n",
       " 'at',\n",
       " 'be',\n",
       " 'because',\n",
       " 'been',\n",
       " 'before',\n",
       " 'being',\n",
       " 'below',\n",
       " 'between',\n",
       " 'both',\n",
       " 'but',\n",
       " 'by',\n",
       " 'can',\n",
       " 'couldn',\n",
       " \"couldn't\",\n",
       " 'd',\n",
       " 'did',\n",
       " 'didn',\n",
       " \"didn't\",\n",
       " 'do',\n",
       " 'does',\n",
       " 'doesn',\n",
       " \"doesn't\",\n",
       " 'doing',\n",
       " 'don',\n",
       " \"don't\",\n",
       " 'down',\n",
       " 'during',\n",
       " 'each',\n",
       " 'few',\n",
       " 'for',\n",
       " 'from',\n",
       " 'further',\n",
       " 'had',\n",
       " 'hadn',\n",
       " \"hadn't\",\n",
       " 'has',\n",
       " 'hasn',\n",
       " \"hasn't\",\n",
       " 'have',\n",
       " 'haven',\n",
       " \"haven't\",\n",
       " 'having',\n",
       " 'he',\n",
       " 'her',\n",
       " 'here',\n",
       " 'hers',\n",
       " 'herself',\n",
       " 'him',\n",
       " 'himself',\n",
       " 'his',\n",
       " 'how',\n",
       " 'i',\n",
       " 'if',\n",
       " 'in',\n",
       " 'into',\n",
       " 'is',\n",
       " 'isn',\n",
       " \"isn't\",\n",
       " 'it',\n",
       " \"it's\",\n",
       " 'its',\n",
       " 'itself',\n",
       " 'just',\n",
       " 'll',\n",
       " 'm',\n",
       " 'ma',\n",
       " 'me',\n",
       " 'mightn',\n",
       " \"mightn't\",\n",
       " 'more',\n",
       " 'most',\n",
       " 'mustn',\n",
       " \"mustn't\",\n",
       " 'my',\n",
       " 'myself',\n",
       " 'needn',\n",
       " \"needn't\",\n",
       " 'no',\n",
       " 'nor',\n",
       " 'not',\n",
       " 'now',\n",
       " 'o',\n",
       " 'of',\n",
       " 'off',\n",
       " 'on',\n",
       " 'once',\n",
       " 'only',\n",
       " 'or',\n",
       " 'other',\n",
       " 'our',\n",
       " 'ours',\n",
       " 'ourselves',\n",
       " 'out',\n",
       " 'over',\n",
       " 'own',\n",
       " 're',\n",
       " 's',\n",
       " 'same',\n",
       " 'shan',\n",
       " \"shan't\",\n",
       " 'she',\n",
       " \"she's\",\n",
       " 'should',\n",
       " \"should've\",\n",
       " 'shouldn',\n",
       " \"shouldn't\",\n",
       " 'so',\n",
       " 'some',\n",
       " 'such',\n",
       " 't',\n",
       " 'than',\n",
       " 'that',\n",
       " \"that'll\",\n",
       " 'the',\n",
       " 'their',\n",
       " 'theirs',\n",
       " 'them',\n",
       " 'themselves',\n",
       " 'then',\n",
       " 'there',\n",
       " 'these',\n",
       " 'they',\n",
       " 'this',\n",
       " 'those',\n",
       " 'through',\n",
       " 'to',\n",
       " 'too',\n",
       " 'under',\n",
       " 'until',\n",
       " 'up',\n",
       " 've',\n",
       " 'very',\n",
       " 'was',\n",
       " 'wasn',\n",
       " \"wasn't\",\n",
       " 'we',\n",
       " 'were',\n",
       " 'weren',\n",
       " \"weren't\",\n",
       " 'what',\n",
       " 'when',\n",
       " 'where',\n",
       " 'which',\n",
       " 'while',\n",
       " 'who',\n",
       " 'whom',\n",
       " 'why',\n",
       " 'will',\n",
       " 'with',\n",
       " 'won',\n",
       " \"won't\",\n",
       " 'wouldn',\n",
       " \"wouldn't\",\n",
       " 'y',\n",
       " 'you',\n",
       " \"you'd\",\n",
       " \"you'll\",\n",
       " \"you're\",\n",
       " \"you've\",\n",
       " 'your',\n",
       " 'yours',\n",
       " 'yourself',\n",
       " 'yourselves'}"
      ]
     },
     "execution_count": 26,
     "metadata": {},
     "output_type": "execute_result"
    }
   ],
   "source": [
    "stopwords_en"
   ]
  },
  {
   "cell_type": "code",
   "execution_count": 27,
   "id": "4eaa8b29-38a4-45f6-a1e8-d73fd1eea005",
   "metadata": {},
   "outputs": [],
   "source": [
    "tokens_list[:] = [[w for w in x if w not in string.punctuation and w not in stopwords_en] for x in tokens_list]"
   ]
  },
  {
   "cell_type": "code",
   "execution_count": 28,
   "id": "01b0e0e9-11ef-44a8-ad48-d03a9b578bba",
   "metadata": {
    "collapsed": true,
    "jupyter": {
     "outputs_hidden": true
    },
    "tags": []
   },
   "outputs": [
    {
     "data": {
      "text/plain": [
       "[['Australia',\n",
       "  'officially',\n",
       "  'Commonwealth',\n",
       "  'Australia',\n",
       "  'sovereign',\n",
       "  'country',\n",
       "  'comprising',\n",
       "  'mainland',\n",
       "  'Australian',\n",
       "  'continent',\n",
       "  'island',\n",
       "  'Tasmania',\n",
       "  'numerous',\n",
       "  'smaller',\n",
       "  'islands'],\n",
       " ['With',\n",
       "  'area',\n",
       "  '7,617,930',\n",
       "  'square',\n",
       "  'kilometres',\n",
       "  '2,941,300',\n",
       "  'sq',\n",
       "  'mi',\n",
       "  'Australia',\n",
       "  'largest',\n",
       "  'country',\n",
       "  'area',\n",
       "  'Oceania',\n",
       "  'world',\n",
       "  \"'s\",\n",
       "  'sixth-largest',\n",
       "  'country'],\n",
       " ['Australia',\n",
       "  'oldest',\n",
       "  'flattest',\n",
       "  'driest',\n",
       "  'inhabited',\n",
       "  'continent',\n",
       "  'least',\n",
       "  'fertile',\n",
       "  'soils'],\n",
       " ['It',\n",
       "  'megadiverse',\n",
       "  'country',\n",
       "  'size',\n",
       "  'gives',\n",
       "  'wide',\n",
       "  'variety',\n",
       "  'landscapes',\n",
       "  'climates',\n",
       "  'deserts',\n",
       "  'centre',\n",
       "  'tropical',\n",
       "  'rainforests',\n",
       "  'north-east',\n",
       "  'mountain',\n",
       "  'ranges',\n",
       "  'south-east'],\n",
       " ['Indigenous',\n",
       "  'Australians',\n",
       "  'inhabited',\n",
       "  'continent',\n",
       "  'approximately',\n",
       "  '65,000',\n",
       "  'years'],\n",
       " ['The',\n",
       "  'European',\n",
       "  'maritime',\n",
       "  'exploration',\n",
       "  'Australia',\n",
       "  'commenced',\n",
       "  'early',\n",
       "  '17th',\n",
       "  'century',\n",
       "  'arrival',\n",
       "  'Dutch',\n",
       "  'explorers'],\n",
       " ['In',\n",
       "  '1770',\n",
       "  'Australia',\n",
       "  \"'s\",\n",
       "  'eastern',\n",
       "  'half',\n",
       "  'claimed',\n",
       "  'Great',\n",
       "  'Britain',\n",
       "  'initially',\n",
       "  'settled',\n",
       "  'penal',\n",
       "  'transportation',\n",
       "  'colony',\n",
       "  'New',\n",
       "  'South',\n",
       "  'Wales',\n",
       "  '26',\n",
       "  'January',\n",
       "  '1788',\n",
       "  'date',\n",
       "  'became',\n",
       "  'Australia',\n",
       "  \"'s\",\n",
       "  'national',\n",
       "  'day']]"
      ]
     },
     "execution_count": 28,
     "metadata": {},
     "output_type": "execute_result"
    }
   ],
   "source": [
    "tokens_list"
   ]
  },
  {
   "cell_type": "markdown",
   "id": "c96b249d-d117-4ab1-b95a-ae2412b033d5",
   "metadata": {},
   "source": [
    "The top-10 most common tokens."
   ]
  },
  {
   "cell_type": "code",
   "execution_count": 29,
   "id": "87f7ed35-78b5-4a31-a159-a0593706ffc0",
   "metadata": {},
   "outputs": [
    {
     "data": {
      "text/plain": [
       "[('Australia', 7),\n",
       " ('country', 4),\n",
       " ('continent', 3),\n",
       " (\"'s\", 3),\n",
       " ('area', 2),\n",
       " ('inhabited', 2),\n",
       " ('officially', 1),\n",
       " ('Commonwealth', 1),\n",
       " ('sovereign', 1),\n",
       " ('comprising', 1)]"
      ]
     },
     "execution_count": 29,
     "metadata": {},
     "output_type": "execute_result"
    }
   ],
   "source": [
    "Counter([w for x in tokens_list for w in x]).most_common(10)"
   ]
  },
  {
   "cell_type": "markdown",
   "id": "a1a02d0a-20a0-4950-98fc-0ae5184686d2",
   "metadata": {},
   "source": [
    "### Question\n",
    "\n",
    "Will we get a different set of tokens if we lower casing all words before removing stopwords? What are the potential problems by doing that?"
   ]
  },
  {
   "cell_type": "markdown",
   "id": "1f78f143-0dc7-4439-8167-de2d641e88d5",
   "metadata": {},
   "source": [
    "Yes. This may cause problems when there are specific words of names, terms, etc. Such as Apple (the company), FOCUS (the organization), etc."
   ]
  },
  {
   "cell_type": "markdown",
   "id": "95872ec7-9e27-43ab-bd8e-37d71ca58433",
   "metadata": {},
   "source": [
    "## Stemming"
   ]
  },
  {
   "cell_type": "markdown",
   "id": "95d8eeda-cd4d-469f-a272-62a6b04cb68e",
   "metadata": {},
   "source": [
    "Turning words into stems."
   ]
  },
  {
   "cell_type": "code",
   "execution_count": 30,
   "id": "2778dfba-d3d8-405e-84ad-82a74b33ecea",
   "metadata": {},
   "outputs": [],
   "source": [
    "from nltk.stem import PorterStemmer"
   ]
  },
  {
   "cell_type": "code",
   "execution_count": 31,
   "id": "d1ec654e-ed6d-4da4-b5ac-4174687bd5fc",
   "metadata": {},
   "outputs": [],
   "source": [
    "stemmer = PorterStemmer()"
   ]
  },
  {
   "cell_type": "code",
   "execution_count": 32,
   "id": "4c40f01f-e4db-407c-a769-40a8c5f61d7c",
   "metadata": {},
   "outputs": [],
   "source": [
    "tokens_stem = [stemmer.stem(w) for x in tokens_list for w in x]"
   ]
  },
  {
   "cell_type": "code",
   "execution_count": 33,
   "id": "748cab22-066c-40c7-ab23-42f729480d9d",
   "metadata": {
    "collapsed": true,
    "jupyter": {
     "outputs_hidden": true
    },
    "tags": []
   },
   "outputs": [
    {
     "data": {
      "text/plain": [
       "['australia',\n",
       " 'offici',\n",
       " 'commonwealth',\n",
       " 'australia',\n",
       " 'sovereign',\n",
       " 'countri',\n",
       " 'compris',\n",
       " 'mainland',\n",
       " 'australian',\n",
       " 'contin',\n",
       " 'island',\n",
       " 'tasmania',\n",
       " 'numer',\n",
       " 'smaller',\n",
       " 'island',\n",
       " 'with',\n",
       " 'area',\n",
       " '7,617,930',\n",
       " 'squar',\n",
       " 'kilometr',\n",
       " '2,941,300',\n",
       " 'sq',\n",
       " 'mi',\n",
       " 'australia',\n",
       " 'largest',\n",
       " 'countri',\n",
       " 'area',\n",
       " 'oceania',\n",
       " 'world',\n",
       " \"'s\",\n",
       " 'sixth-largest',\n",
       " 'countri',\n",
       " 'australia',\n",
       " 'oldest',\n",
       " 'flattest',\n",
       " 'driest',\n",
       " 'inhabit',\n",
       " 'contin',\n",
       " 'least',\n",
       " 'fertil',\n",
       " 'soil',\n",
       " 'it',\n",
       " 'megadivers',\n",
       " 'countri',\n",
       " 'size',\n",
       " 'give',\n",
       " 'wide',\n",
       " 'varieti',\n",
       " 'landscap',\n",
       " 'climat',\n",
       " 'desert',\n",
       " 'centr',\n",
       " 'tropic',\n",
       " 'rainforest',\n",
       " 'north-east',\n",
       " 'mountain',\n",
       " 'rang',\n",
       " 'south-east',\n",
       " 'indigen',\n",
       " 'australian',\n",
       " 'inhabit',\n",
       " 'contin',\n",
       " 'approxim',\n",
       " '65,000',\n",
       " 'year',\n",
       " 'the',\n",
       " 'european',\n",
       " 'maritim',\n",
       " 'explor',\n",
       " 'australia',\n",
       " 'commenc',\n",
       " 'earli',\n",
       " '17th',\n",
       " 'centuri',\n",
       " 'arriv',\n",
       " 'dutch',\n",
       " 'explor',\n",
       " 'in',\n",
       " '1770',\n",
       " 'australia',\n",
       " \"'s\",\n",
       " 'eastern',\n",
       " 'half',\n",
       " 'claim',\n",
       " 'great',\n",
       " 'britain',\n",
       " 'initi',\n",
       " 'settl',\n",
       " 'penal',\n",
       " 'transport',\n",
       " 'coloni',\n",
       " 'new',\n",
       " 'south',\n",
       " 'wale',\n",
       " '26',\n",
       " 'januari',\n",
       " '1788',\n",
       " 'date',\n",
       " 'becam',\n",
       " 'australia',\n",
       " \"'s\",\n",
       " 'nation',\n",
       " 'day']"
      ]
     },
     "execution_count": 33,
     "metadata": {},
     "output_type": "execute_result"
    }
   ],
   "source": [
    "tokens_stem"
   ]
  },
  {
   "cell_type": "code",
   "execution_count": 34,
   "id": "d37d9d58-6a85-475f-8036-d0fc712a09f3",
   "metadata": {},
   "outputs": [
    {
     "data": {
      "text/plain": [
       "[('australia', 7),\n",
       " ('countri', 4),\n",
       " ('contin', 3),\n",
       " (\"'s\", 3),\n",
       " ('australian', 2),\n",
       " ('island', 2),\n",
       " ('area', 2),\n",
       " ('inhabit', 2),\n",
       " ('explor', 2),\n",
       " ('offici', 1)]"
      ]
     },
     "execution_count": 34,
     "metadata": {},
     "output_type": "execute_result"
    }
   ],
   "source": [
    "Counter(tokens_stem).most_common(10)"
   ]
  },
  {
   "cell_type": "markdown",
   "id": "7c5750de-a41d-4ea2-be84-e4ced36bfb1a",
   "metadata": {},
   "source": [
    "### Exercise\n",
    "\n",
    "Try other NLTK stemmers (e.g. SnowballStemmer, RegexpStemmer), you may need to download additional data packages, see https://www.nltk.org/data.html"
   ]
  },
  {
   "cell_type": "code",
   "execution_count": 35,
   "id": "ac17a2ba-750f-4a6f-99de-c00bdaca90e6",
   "metadata": {},
   "outputs": [],
   "source": [
    "from nltk.stem import SnowballStemmer, RegexpStemmer"
   ]
  },
  {
   "cell_type": "code",
   "execution_count": 38,
   "id": "3c7af64b-c36e-4478-b629-6f474256d32a",
   "metadata": {
    "tags": []
   },
   "outputs": [],
   "source": [
    "snow_stemmer = SnowballStemmer(\"english\")"
   ]
  },
  {
   "cell_type": "code",
   "execution_count": 39,
   "id": "b72acf4b-d49f-496e-b439-b489627db02f",
   "metadata": {
    "collapsed": true,
    "jupyter": {
     "outputs_hidden": true
    },
    "tags": []
   },
   "outputs": [
    {
     "data": {
      "text/plain": [
       "['australia',\n",
       " 'offici',\n",
       " 'commonwealth',\n",
       " 'australia',\n",
       " 'sovereign',\n",
       " 'countri',\n",
       " 'compris',\n",
       " 'mainland',\n",
       " 'australian',\n",
       " 'contin',\n",
       " 'island',\n",
       " 'tasmania',\n",
       " 'numer',\n",
       " 'smaller',\n",
       " 'island',\n",
       " 'with',\n",
       " 'area',\n",
       " '7,617,930',\n",
       " 'squar',\n",
       " 'kilometr',\n",
       " '2,941,300',\n",
       " 'sq',\n",
       " 'mi',\n",
       " 'australia',\n",
       " 'largest',\n",
       " 'countri',\n",
       " 'area',\n",
       " 'oceania',\n",
       " 'world',\n",
       " \"'s\",\n",
       " 'sixth-largest',\n",
       " 'countri',\n",
       " 'australia',\n",
       " 'oldest',\n",
       " 'flattest',\n",
       " 'driest',\n",
       " 'inhabit',\n",
       " 'contin',\n",
       " 'least',\n",
       " 'fertil',\n",
       " 'soil',\n",
       " 'it',\n",
       " 'megadivers',\n",
       " 'countri',\n",
       " 'size',\n",
       " 'give',\n",
       " 'wide',\n",
       " 'varieti',\n",
       " 'landscap',\n",
       " 'climat',\n",
       " 'desert',\n",
       " 'centr',\n",
       " 'tropic',\n",
       " 'rainforest',\n",
       " 'north-east',\n",
       " 'mountain',\n",
       " 'rang',\n",
       " 'south-east',\n",
       " 'indigen',\n",
       " 'australian',\n",
       " 'inhabit',\n",
       " 'contin',\n",
       " 'approxim',\n",
       " '65,000',\n",
       " 'year',\n",
       " 'the',\n",
       " 'european',\n",
       " 'maritim',\n",
       " 'explor',\n",
       " 'australia',\n",
       " 'commenc',\n",
       " 'earli',\n",
       " '17th',\n",
       " 'centuri',\n",
       " 'arriv',\n",
       " 'dutch',\n",
       " 'explor',\n",
       " 'in',\n",
       " '1770',\n",
       " 'australia',\n",
       " \"'s\",\n",
       " 'eastern',\n",
       " 'half',\n",
       " 'claim',\n",
       " 'great',\n",
       " 'britain',\n",
       " 'initi',\n",
       " 'settl',\n",
       " 'penal',\n",
       " 'transport',\n",
       " 'coloni',\n",
       " 'new',\n",
       " 'south',\n",
       " 'wale',\n",
       " '26',\n",
       " 'januari',\n",
       " '1788',\n",
       " 'date',\n",
       " 'becam',\n",
       " 'australia',\n",
       " \"'s\",\n",
       " 'nation',\n",
       " 'day']"
      ]
     },
     "execution_count": 39,
     "metadata": {},
     "output_type": "execute_result"
    }
   ],
   "source": [
    "snow_tokens_stem = [snow_stemmer.stem(w) for x in tokens_list for w in x]\n",
    "snow_tokens_stem"
   ]
  },
  {
   "cell_type": "code",
   "execution_count": 40,
   "id": "1dd4fe6c-c543-43a1-a603-11c4a895f937",
   "metadata": {
    "tags": []
   },
   "outputs": [
    {
     "data": {
      "text/plain": [
       "[('australia', 7),\n",
       " ('countri', 4),\n",
       " ('contin', 3),\n",
       " (\"'s\", 3),\n",
       " ('australian', 2),\n",
       " ('island', 2),\n",
       " ('area', 2),\n",
       " ('inhabit', 2),\n",
       " ('explor', 2),\n",
       " ('offici', 1)]"
      ]
     },
     "execution_count": 40,
     "metadata": {},
     "output_type": "execute_result"
    }
   ],
   "source": [
    "Counter(snow_tokens_stem).most_common(10)"
   ]
  },
  {
   "cell_type": "code",
   "execution_count": 41,
   "id": "60f16dbf-0b39-46fd-99a0-f4c3e87cd38c",
   "metadata": {
    "collapsed": true,
    "jupyter": {
     "outputs_hidden": true
    },
    "tags": []
   },
   "outputs": [
    {
     "data": {
      "text/plain": [
       "['Australia',\n",
       " 'officially',\n",
       " 'Commonwealth',\n",
       " 'Australia',\n",
       " 'sovereign',\n",
       " 'country',\n",
       " 'comprising',\n",
       " 'mainland',\n",
       " 'Australian',\n",
       " 'continent',\n",
       " 'island',\n",
       " 'Tasmania',\n",
       " 'numerous',\n",
       " 'smaller',\n",
       " 'islands',\n",
       " 'With',\n",
       " 'area',\n",
       " '7,617,930',\n",
       " 'square',\n",
       " 'kilometres',\n",
       " '2,941,300',\n",
       " 'sq',\n",
       " 'mi',\n",
       " 'Australia',\n",
       " 'largest',\n",
       " 'country',\n",
       " 'area',\n",
       " 'Oceania',\n",
       " 'world',\n",
       " \"'s\",\n",
       " 'sixth-largest',\n",
       " 'country',\n",
       " 'Australia',\n",
       " 'oldest',\n",
       " 'flattest',\n",
       " 'driest',\n",
       " 'inhabited',\n",
       " 'continent',\n",
       " 'least',\n",
       " 'fertile',\n",
       " 'soils',\n",
       " 'It',\n",
       " 'megadiverse',\n",
       " 'country',\n",
       " 'size',\n",
       " 'gives',\n",
       " 'wide',\n",
       " 'variety',\n",
       " 'landscapes',\n",
       " 'climates',\n",
       " 'deserts',\n",
       " 'centre',\n",
       " 'tropical',\n",
       " 'rainforests',\n",
       " 'north-east',\n",
       " 'mountain',\n",
       " 'ranges',\n",
       " 'south-east',\n",
       " 'Indigenous',\n",
       " 'Australians',\n",
       " 'inhabited',\n",
       " 'continent',\n",
       " 'approximately',\n",
       " '65,000',\n",
       " 'years',\n",
       " 'The',\n",
       " 'European',\n",
       " 'maritime',\n",
       " 'exploration',\n",
       " 'Australia',\n",
       " 'commenced',\n",
       " 'early',\n",
       " '17th',\n",
       " 'century',\n",
       " 'arrival',\n",
       " 'Dutch',\n",
       " 'explorers',\n",
       " 'In',\n",
       " '1770',\n",
       " 'Australia',\n",
       " \"'s\",\n",
       " 'eastern',\n",
       " 'half',\n",
       " 'claimed',\n",
       " 'Great',\n",
       " 'Britain',\n",
       " 'initially',\n",
       " 'settled',\n",
       " 'penal',\n",
       " 'transportation',\n",
       " 'colony',\n",
       " 'New',\n",
       " 'South',\n",
       " 'Wales',\n",
       " '26',\n",
       " 'January',\n",
       " '1788',\n",
       " 'date',\n",
       " 'became',\n",
       " 'Australia',\n",
       " \"'s\",\n",
       " 'national',\n",
       " 'day']"
      ]
     },
     "execution_count": 41,
     "metadata": {},
     "output_type": "execute_result"
    }
   ],
   "source": [
    "reg_stemmer = RegexpStemmer(\"english\")\n",
    "reg_tokens_stem = [reg_stemmer.stem(w) for x in tokens_list for w in x]\n",
    "reg_tokens_stem"
   ]
  },
  {
   "cell_type": "code",
   "execution_count": 42,
   "id": "e7a3c39b-faa2-46f5-a4eb-29cf78043e11",
   "metadata": {
    "tags": []
   },
   "outputs": [
    {
     "data": {
      "text/plain": [
       "[('Australia', 7),\n",
       " ('country', 4),\n",
       " ('continent', 3),\n",
       " (\"'s\", 3),\n",
       " ('area', 2),\n",
       " ('inhabited', 2),\n",
       " ('officially', 1),\n",
       " ('Commonwealth', 1),\n",
       " ('sovereign', 1),\n",
       " ('comprising', 1)]"
      ]
     },
     "execution_count": 42,
     "metadata": {},
     "output_type": "execute_result"
    }
   ],
   "source": [
    "Counter(reg_tokens_stem).most_common(10)"
   ]
  },
  {
   "cell_type": "markdown",
   "id": "00477ff9-4273-4696-98c4-b5a6a4f39911",
   "metadata": {},
   "source": [
    "## Lemmatisation"
   ]
  },
  {
   "cell_type": "markdown",
   "id": "3e83edc5-0cae-437e-8528-9e5e2169e46a",
   "metadata": {},
   "source": [
    "Turning words into lemmas (entries in a dictionary). It requires knowledge of the context (typically the intended\n",
    "Part-of-Speech of a word in the context)."
   ]
  },
  {
   "cell_type": "code",
   "execution_count": 43,
   "id": "637e611d-8d23-4913-b60c-0160bdbf4d1e",
   "metadata": {},
   "outputs": [],
   "source": [
    "from nltk.stem import WordNetLemmatizer"
   ]
  },
  {
   "cell_type": "code",
   "execution_count": 44,
   "id": "9a3e9018-4770-4eac-bfaf-ec6f8fbbf2c4",
   "metadata": {},
   "outputs": [
    {
     "name": "stderr",
     "output_type": "stream",
     "text": [
      "[nltk_data] Downloading package wordnet to\n",
      "[nltk_data]     /Users/juneehome/nltk_data...\n",
      "[nltk_data] Downloading package omw-1.4 to\n",
      "[nltk_data]     /Users/juneehome/nltk_data...\n"
     ]
    },
    {
     "data": {
      "text/plain": [
       "True"
      ]
     },
     "execution_count": 44,
     "metadata": {},
     "output_type": "execute_result"
    }
   ],
   "source": [
    "nltk.download('wordnet')\n",
    "nltk.download('omw-1.4')"
   ]
  },
  {
   "cell_type": "markdown",
   "id": "869121b8-512a-406f-a87c-21e47ded0321",
   "metadata": {},
   "source": [
    "POS tagging for lemmatisation."
   ]
  },
  {
   "cell_type": "code",
   "execution_count": 45,
   "id": "cc2e9325-251b-47b2-9833-0e13f7d6f656",
   "metadata": {
    "collapsed": true,
    "jupyter": {
     "outputs_hidden": true
    },
    "tags": []
   },
   "outputs": [
    {
     "name": "stderr",
     "output_type": "stream",
     "text": [
      "[nltk_data] Downloading package averaged_perceptron_tagger to\n",
      "[nltk_data]     /Users/juneehome/nltk_data...\n",
      "[nltk_data]   Unzipping taggers/averaged_perceptron_tagger.zip.\n"
     ]
    },
    {
     "data": {
      "text/plain": [
       "[[('Australia', 'NNP'),\n",
       "  ('officially', 'RB'),\n",
       "  ('Commonwealth', 'NNP'),\n",
       "  ('Australia', 'NNP'),\n",
       "  ('sovereign', 'JJ'),\n",
       "  ('country', 'NN'),\n",
       "  ('comprising', 'VBG'),\n",
       "  ('mainland', 'NN'),\n",
       "  ('Australian', 'JJ'),\n",
       "  ('continent', 'NN'),\n",
       "  ('island', 'NN'),\n",
       "  ('Tasmania', 'NNP'),\n",
       "  ('numerous', 'JJ'),\n",
       "  ('smaller', 'JJR'),\n",
       "  ('islands', 'NNS')],\n",
       " [('With', 'IN'),\n",
       "  ('area', 'NN'),\n",
       "  ('7,617,930', 'CD'),\n",
       "  ('square', 'JJ'),\n",
       "  ('kilometres', 'NNS'),\n",
       "  ('2,941,300', 'CD'),\n",
       "  ('sq', 'JJ'),\n",
       "  ('mi', 'NN'),\n",
       "  ('Australia', 'NNP'),\n",
       "  ('largest', 'JJS'),\n",
       "  ('country', 'NN'),\n",
       "  ('area', 'NN'),\n",
       "  ('Oceania', 'NNP'),\n",
       "  ('world', 'NN'),\n",
       "  (\"'s\", 'POS'),\n",
       "  ('sixth-largest', 'JJ'),\n",
       "  ('country', 'NN')],\n",
       " [('Australia', 'NNP'),\n",
       "  ('oldest', 'JJS'),\n",
       "  ('flattest', 'JJS'),\n",
       "  ('driest', 'NN'),\n",
       "  ('inhabited', 'VBN'),\n",
       "  ('continent', 'NN'),\n",
       "  ('least', 'JJS'),\n",
       "  ('fertile', 'JJ'),\n",
       "  ('soils', 'NNS')],\n",
       " [('It', 'PRP'),\n",
       "  ('megadiverse', 'VBZ'),\n",
       "  ('country', 'NN'),\n",
       "  ('size', 'NN'),\n",
       "  ('gives', 'VBZ'),\n",
       "  ('wide', 'JJ'),\n",
       "  ('variety', 'NN'),\n",
       "  ('landscapes', 'NNS'),\n",
       "  ('climates', 'VBZ'),\n",
       "  ('deserts', 'NNS'),\n",
       "  ('centre', 'VB'),\n",
       "  ('tropical', 'JJ'),\n",
       "  ('rainforests', 'NNS'),\n",
       "  ('north-east', 'RB'),\n",
       "  ('mountain', 'NN'),\n",
       "  ('ranges', 'VBZ'),\n",
       "  ('south-east', 'NN')],\n",
       " [('Indigenous', 'JJ'),\n",
       "  ('Australians', 'NNPS'),\n",
       "  ('inhabited', 'JJ'),\n",
       "  ('continent', 'NN'),\n",
       "  ('approximately', 'RB'),\n",
       "  ('65,000', 'CD'),\n",
       "  ('years', 'NNS')],\n",
       " [('The', 'DT'),\n",
       "  ('European', 'JJ'),\n",
       "  ('maritime', 'NN'),\n",
       "  ('exploration', 'NN'),\n",
       "  ('Australia', 'NNP'),\n",
       "  ('commenced', 'VBD'),\n",
       "  ('early', 'JJ'),\n",
       "  ('17th', 'JJ'),\n",
       "  ('century', 'NN'),\n",
       "  ('arrival', 'NN'),\n",
       "  ('Dutch', 'NNP'),\n",
       "  ('explorers', 'NNS')],\n",
       " [('In', 'IN'),\n",
       "  ('1770', 'CD'),\n",
       "  ('Australia', 'NNP'),\n",
       "  (\"'s\", 'POS'),\n",
       "  ('eastern', 'JJ'),\n",
       "  ('half', 'NN'),\n",
       "  ('claimed', 'VBD'),\n",
       "  ('Great', 'NNP'),\n",
       "  ('Britain', 'NNP'),\n",
       "  ('initially', 'RB'),\n",
       "  ('settled', 'VBD'),\n",
       "  ('penal', 'JJ'),\n",
       "  ('transportation', 'NN'),\n",
       "  ('colony', 'NN'),\n",
       "  ('New', 'NNP'),\n",
       "  ('South', 'NNP'),\n",
       "  ('Wales', 'NNP'),\n",
       "  ('26', 'CD'),\n",
       "  ('January', 'NNP'),\n",
       "  ('1788', 'CD'),\n",
       "  ('date', 'NN'),\n",
       "  ('became', 'VBD'),\n",
       "  ('Australia', 'NNP'),\n",
       "  (\"'s\", 'POS'),\n",
       "  ('national', 'JJ'),\n",
       "  ('day', 'NN')]]"
      ]
     },
     "execution_count": 45,
     "metadata": {},
     "output_type": "execute_result"
    }
   ],
   "source": [
    "nltk.download('averaged_perceptron_tagger')\n",
    "tags_list = nltk.pos_tag_sents(tokens_list)\n",
    "tags_list"
   ]
  },
  {
   "cell_type": "markdown",
   "id": "4baddbec-df26-497f-9dde-1adddb649d7f",
   "metadata": {},
   "source": [
    "A heuristic to convert POS tags to the [four syntactic categories that wordnet recognizes (i.e. **noun**, **verb**, **adj** and **adv**)](https://wordnet.princeton.edu/):\n",
    "- `n` for nouns\n",
    "- `v` for verbs\n",
    "- `a` for adjectives\n",
    "- `r` for adverbs"
   ]
  },
  {
   "cell_type": "code",
   "execution_count": null,
   "id": "c11d42ac-4867-42f3-8ef7-cbf98740f420",
   "metadata": {},
   "outputs": [],
   "source": [
    "# tags_list"
   ]
  },
  {
   "cell_type": "code",
   "execution_count": 46,
   "id": "2f05f26f-a383-444e-88e3-e885b91d39ff",
   "metadata": {},
   "outputs": [],
   "source": [
    "wordnet_tag = lambda t: 'a' if t == 'j' else (t if t in ['n', 'v', 'r'] else 'n')"
   ]
  },
  {
   "cell_type": "markdown",
   "id": "1a2ff542-80e2-44d9-9ff2-4ce3f991b525",
   "metadata": {},
   "source": [
    "Lemmatising"
   ]
  },
  {
   "cell_type": "code",
   "execution_count": 48,
   "id": "c4df130d-6918-4ca6-a0c2-b859f75843ed",
   "metadata": {},
   "outputs": [],
   "source": [
    "lemmatizer = WordNetLemmatizer()"
   ]
  },
  {
   "cell_type": "code",
   "execution_count": 49,
   "id": "1fbe6599-de52-4abd-8a2c-6edfc2ce729c",
   "metadata": {},
   "outputs": [],
   "source": [
    "tokens_lemma = [lemmatizer.lemmatize(w.lower(), pos=wordnet_tag(t[0].lower())) for x in tags_list for (w, t) in x]\n",
    "\n"
   ]
  },
  {
   "cell_type": "code",
   "execution_count": 60,
   "id": "47ceabde-27d7-473c-ad5b-a0485b172c45",
   "metadata": {
    "collapsed": true,
    "jupyter": {
     "outputs_hidden": true
    },
    "tags": []
   },
   "outputs": [
    {
     "data": {
      "text/plain": [
       "[['Australia',\n",
       "  'officially',\n",
       "  'Commonwealth',\n",
       "  'Australia',\n",
       "  'sovereign',\n",
       "  'country',\n",
       "  'comprising',\n",
       "  'mainland',\n",
       "  'Australian',\n",
       "  'continent',\n",
       "  'island',\n",
       "  'Tasmania',\n",
       "  'numerous',\n",
       "  'smaller',\n",
       "  'islands'],\n",
       " ['With',\n",
       "  'area',\n",
       "  '7,617,930',\n",
       "  'square',\n",
       "  'kilometres',\n",
       "  '2,941,300',\n",
       "  'sq',\n",
       "  'mi',\n",
       "  'Australia',\n",
       "  'largest',\n",
       "  'country',\n",
       "  'area',\n",
       "  'Oceania',\n",
       "  'world',\n",
       "  \"'s\",\n",
       "  'sixth-largest',\n",
       "  'country'],\n",
       " ['Australia',\n",
       "  'oldest',\n",
       "  'flattest',\n",
       "  'driest',\n",
       "  'inhabited',\n",
       "  'continent',\n",
       "  'least',\n",
       "  'fertile',\n",
       "  'soils'],\n",
       " ['It',\n",
       "  'megadiverse',\n",
       "  'country',\n",
       "  'size',\n",
       "  'gives',\n",
       "  'wide',\n",
       "  'variety',\n",
       "  'landscapes',\n",
       "  'climates',\n",
       "  'deserts',\n",
       "  'centre',\n",
       "  'tropical',\n",
       "  'rainforests',\n",
       "  'north-east',\n",
       "  'mountain',\n",
       "  'ranges',\n",
       "  'south-east'],\n",
       " ['Indigenous',\n",
       "  'Australians',\n",
       "  'inhabited',\n",
       "  'continent',\n",
       "  'approximately',\n",
       "  '65,000',\n",
       "  'years'],\n",
       " ['The',\n",
       "  'European',\n",
       "  'maritime',\n",
       "  'exploration',\n",
       "  'Australia',\n",
       "  'commenced',\n",
       "  'early',\n",
       "  '17th',\n",
       "  'century',\n",
       "  'arrival',\n",
       "  'Dutch',\n",
       "  'explorers'],\n",
       " ['In',\n",
       "  '1770',\n",
       "  'Australia',\n",
       "  \"'s\",\n",
       "  'eastern',\n",
       "  'half',\n",
       "  'claimed',\n",
       "  'Great',\n",
       "  'Britain',\n",
       "  'initially',\n",
       "  'settled',\n",
       "  'penal',\n",
       "  'transportation',\n",
       "  'colony',\n",
       "  'New',\n",
       "  'South',\n",
       "  'Wales',\n",
       "  '26',\n",
       "  'January',\n",
       "  '1788',\n",
       "  'date',\n",
       "  'became',\n",
       "  'Australia',\n",
       "  \"'s\",\n",
       "  'national',\n",
       "  'day']]"
      ]
     },
     "execution_count": 60,
     "metadata": {},
     "output_type": "execute_result"
    }
   ],
   "source": [
    "tokens_list"
   ]
  },
  {
   "cell_type": "code",
   "execution_count": 50,
   "id": "fc312e00-2a09-46a4-8b3e-6cd15766a107",
   "metadata": {
    "collapsed": true,
    "jupyter": {
     "outputs_hidden": true
    },
    "tags": []
   },
   "outputs": [
    {
     "data": {
      "text/plain": [
       "['australia',\n",
       " 'officially',\n",
       " 'commonwealth',\n",
       " 'australia',\n",
       " 'sovereign',\n",
       " 'country',\n",
       " 'comprise',\n",
       " 'mainland',\n",
       " 'australian',\n",
       " 'continent',\n",
       " 'island',\n",
       " 'tasmania',\n",
       " 'numerous',\n",
       " 'small',\n",
       " 'island',\n",
       " 'with',\n",
       " 'area',\n",
       " '7,617,930',\n",
       " 'square',\n",
       " 'kilometre',\n",
       " '2,941,300',\n",
       " 'sq',\n",
       " 'mi',\n",
       " 'australia',\n",
       " 'large',\n",
       " 'country',\n",
       " 'area',\n",
       " 'oceania',\n",
       " 'world',\n",
       " \"'s\",\n",
       " 'sixth-largest',\n",
       " 'country',\n",
       " 'australia',\n",
       " 'old',\n",
       " 'flat',\n",
       " 'driest',\n",
       " 'inhabit',\n",
       " 'continent',\n",
       " 'least',\n",
       " 'fertile',\n",
       " 'soil',\n",
       " 'it',\n",
       " 'megadiverse',\n",
       " 'country',\n",
       " 'size',\n",
       " 'give',\n",
       " 'wide',\n",
       " 'variety',\n",
       " 'landscape',\n",
       " 'climates',\n",
       " 'desert',\n",
       " 'centre',\n",
       " 'tropical',\n",
       " 'rainforest',\n",
       " 'north-east',\n",
       " 'mountain',\n",
       " 'range',\n",
       " 'south-east',\n",
       " 'indigenous',\n",
       " 'australian',\n",
       " 'inhabited',\n",
       " 'continent',\n",
       " 'approximately',\n",
       " '65,000',\n",
       " 'year',\n",
       " 'the',\n",
       " 'european',\n",
       " 'maritime',\n",
       " 'exploration',\n",
       " 'australia',\n",
       " 'commence',\n",
       " 'early',\n",
       " '17th',\n",
       " 'century',\n",
       " 'arrival',\n",
       " 'dutch',\n",
       " 'explorer',\n",
       " 'in',\n",
       " '1770',\n",
       " 'australia',\n",
       " \"'s\",\n",
       " 'eastern',\n",
       " 'half',\n",
       " 'claim',\n",
       " 'great',\n",
       " 'britain',\n",
       " 'initially',\n",
       " 'settle',\n",
       " 'penal',\n",
       " 'transportation',\n",
       " 'colony',\n",
       " 'new',\n",
       " 'south',\n",
       " 'wale',\n",
       " '26',\n",
       " 'january',\n",
       " '1788',\n",
       " 'date',\n",
       " 'become',\n",
       " 'australia',\n",
       " \"'s\",\n",
       " 'national',\n",
       " 'day']"
      ]
     },
     "execution_count": 50,
     "metadata": {},
     "output_type": "execute_result"
    }
   ],
   "source": [
    "tokens_lemma"
   ]
  },
  {
   "cell_type": "code",
   "execution_count": 51,
   "id": "e901e5ea-1537-4def-a5c3-506b2e540e4f",
   "metadata": {},
   "outputs": [
    {
     "data": {
      "text/plain": [
       "[('australia', 7),\n",
       " ('country', 4),\n",
       " ('continent', 3),\n",
       " (\"'s\", 3),\n",
       " ('australian', 2),\n",
       " ('island', 2),\n",
       " ('area', 2),\n",
       " ('officially', 1),\n",
       " ('commonwealth', 1),\n",
       " ('sovereign', 1)]"
      ]
     },
     "execution_count": 51,
     "metadata": {},
     "output_type": "execute_result"
    }
   ],
   "source": [
    "Counter(tokens_lemma).most_common(10)"
   ]
  },
  {
   "cell_type": "code",
   "execution_count": 61,
   "id": "6c26dd21-651d-4f27-aa28-ca6a094d49db",
   "metadata": {
    "tags": []
   },
   "outputs": [
    {
     "name": "stdout",
     "output_type": "stream",
     "text": [
      "Original: Australia, Lemma: australia\n",
      "Original: Commonwealth, Lemma: commonwealth\n",
      "Original: Australia, Lemma: australia\n",
      "Original: comprising, Lemma: comprise\n",
      "Original: Australian, Lemma: australian\n",
      "Original: Tasmania, Lemma: tasmania\n",
      "Original: smaller, Lemma: small\n",
      "Original: islands, Lemma: island\n",
      "Original: With, Lemma: with\n",
      "Original: kilometres, Lemma: kilometre\n",
      "Original: Australia, Lemma: australia\n",
      "Original: largest, Lemma: large\n",
      "Original: Oceania, Lemma: oceania\n",
      "Original: Australia, Lemma: australia\n",
      "Original: oldest, Lemma: old\n",
      "Original: flattest, Lemma: flat\n",
      "Original: inhabited, Lemma: inhabit\n",
      "Original: soils, Lemma: soil\n",
      "Original: It, Lemma: it\n",
      "Original: gives, Lemma: give\n",
      "Original: landscapes, Lemma: landscape\n",
      "Original: deserts, Lemma: desert\n",
      "Original: rainforests, Lemma: rainforest\n",
      "Original: ranges, Lemma: range\n",
      "Original: Indigenous, Lemma: indigenous\n",
      "Original: Australians, Lemma: australian\n",
      "Original: years, Lemma: year\n",
      "Original: The, Lemma: the\n",
      "Original: European, Lemma: european\n",
      "Original: Australia, Lemma: australia\n",
      "Original: commenced, Lemma: commence\n",
      "Original: Dutch, Lemma: dutch\n",
      "Original: explorers, Lemma: explorer\n",
      "Original: In, Lemma: in\n",
      "Original: Australia, Lemma: australia\n",
      "Original: claimed, Lemma: claim\n",
      "Original: Great, Lemma: great\n",
      "Original: Britain, Lemma: britain\n",
      "Original: settled, Lemma: settle\n",
      "Original: New, Lemma: new\n",
      "Original: South, Lemma: south\n",
      "Original: Wales, Lemma: wale\n",
      "Original: January, Lemma: january\n",
      "Original: became, Lemma: become\n",
      "Original: Australia, Lemma: australia\n"
     ]
    }
   ],
   "source": [
    "tokens_list_flat = [item for sublist in tokens_list for item in sublist]\n",
    "\n",
    "for original, lemma in zip(tokens_list_flat, tokens_lemma):\n",
    "    if original != lemma:\n",
    "        print(f\"Original: {original}, Lemma: {lemma}\")"
   ]
  },
  {
   "cell_type": "markdown",
   "id": "f869e3c1-e510-4166-be69-34a212dc20b4",
   "metadata": {},
   "source": [
    "### Question\n",
    "\n",
    "Compare the results of stemming and lemmatisation. Can you see the differences and the potential problems with stemming and lemmatisation?"
   ]
  }
 ],
 "metadata": {
  "kernelspec": {
   "display_name": "Python 3 (ipykernel)",
   "language": "python",
   "name": "python3"
  },
  "language_info": {
   "codemirror_mode": {
    "name": "ipython",
    "version": 3
   },
   "file_extension": ".py",
   "mimetype": "text/x-python",
   "name": "python",
   "nbconvert_exporter": "python",
   "pygments_lexer": "ipython3",
   "version": "3.11.3"
  }
 },
 "nbformat": 4,
 "nbformat_minor": 5
}
